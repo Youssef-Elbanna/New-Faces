{
 "cells": [
  {
   "cell_type": "code",
   "id": "initial_id",
   "metadata": {
    "collapsed": true,
    "ExecuteTime": {
     "end_time": "2025-08-11T02:06:54.837629Z",
     "start_time": "2025-08-11T02:05:35.888280Z"
    }
   },
   "source": [
    "# main.py\n",
    "from phases.phase1 import run_phase1\n",
    "from phases.phase2 import run_phase2\n",
    "from phases.phase3 import run_phase3\n",
    "from data_access.database import DatabaseManager\n",
    "from utils.logging_utils import setup_logging\n",
    "import logging\n",
    "\n",
    "if __name__ == \"__main__\":\n",
    "    setup_logging()\n",
    "    logging.info(\"=== Starting NewsFaces Pipeline ===\")\n",
    "\n",
    "    run_phase1()\n",
    "    run_phase2()\n",
    "    run_phase3()\n",
    "\n",
    "    db = DatabaseManager()\n",
    "    logging.info(\"=== Final Database Statistics ===\")\n",
    "    logging.info(f\"Articles stored: {db.get_article_count()}\")\n",
    "    logging.info(f\"Images stored: {db.get_image_count()}\")\n",
    "    logging.info(f\"Known faces stored: {db.get_known_faces_count()}\")\n"
   ],
   "outputs": [
    {
     "name": "stderr",
     "output_type": "stream",
     "text": [
      "D:\\PythonProject\\.venv\\newsfaces_project\\Lib\\site-packages\\tqdm\\auto.py:21: TqdmWarning: IProgress not found. Please update jupyter and ipywidgets. See https://ipywidgets.readthedocs.io/en/stable/user_install.html\n",
      "  from .autonotebook import tqdm as notebook_tqdm\n",
      "D:\\PythonProject\\.venv\\newsfaces_project\\Lib\\site-packages\\face_recognition_models\\__init__.py:7: UserWarning: pkg_resources is deprecated as an API. See https://setuptools.pypa.io/en/latest/pkg_resources.html. The pkg_resources package is slated for removal as early as 2025-11-30. Refrain from using this package or pin to Setuptools<81.\n",
      "  from pkg_resources import resource_filename\n",
      "2025-08-11 05:05:48,269 - INFO - === Starting NewsFaces Pipeline ===\n",
      "2025-08-11 05:05:48,271 - INFO - === Starting Phase 1: WARC processing ===\n",
      "2025-08-11 05:05:48,273 - INFO - [1/10] Processing WARC file: CC-MAIN-20230320083513-20230320113513-00000.warc.gz\n",
      "2025-08-11 05:05:48,276 - INFO - Saved HTML: data\\extracted_data\\html\\page_0.html\n"
     ]
    },
    {
     "name": "stdout",
     "output_type": "stream",
     "text": [
      "=== Phase 1: Downloading and extracting HTML + images ===\n"
     ]
    },
    {
     "name": "stderr",
     "output_type": "stream",
     "text": [
      "2025-08-11 05:05:48,999 - INFO - Downloaded image: data\\extracted_data\\images\\page_0_cropped-headder-for-new-website.jpg\n",
      "2025-08-11 05:05:49,005 - INFO - Saved HTML: data\\extracted_data\\html\\062d199936.html\n",
      "2025-08-11 05:05:49,157 - INFO - Downloaded image: data\\extracted_data\\images\\062d199936_AmEt-fytnfyn7668290.jpg\n",
      "2025-08-11 05:05:50,013 - INFO - Downloaded image: data\\extracted_data\\images\\062d199936_UVn_-fzihnep6353801.jpg\n",
      "2025-08-11 05:05:50,124 - INFO - Downloaded image: data\\extracted_data\\images\\062d199936_Hmrl-fxpwyhw1683542.jpg\n",
      "2025-08-11 05:05:50,232 - INFO - Downloaded image: data\\extracted_data\\images\\062d199936_ehTY-hicsiaw0610080.jpg\n",
      "2025-08-11 05:05:50,727 - INFO - Downloaded image: data\\extracted_data\\images\\062d199936_aK9r-hcaqueu9152068.jpg\n",
      "2025-08-11 05:05:50,731 - INFO - Saved HTML: data\\extracted_data\\html\\229170.html\n",
      "2025-08-11 05:05:50,974 - INFO - Downloaded image: data\\extracted_data\\images\\229170_googlelogo_color_272x92dp.png\n",
      "2025-08-11 05:05:51,864 - WARNING - Error downloading image http://0hb.gtiuyt.icu/fzgf5p/images/navbg2.jpg: HTTPConnectionPool(host='0hb.gtiuyt.icu', port=80): Max retries exceeded with url: /fzgf5p/images/navbg2.jpg (Caused by NameResolutionError(\"<urllib3.connection.HTTPConnection object at 0x0000015E467FDE10>: Failed to resolve '0hb.gtiuyt.icu' ([Errno 11001] getaddrinfo failed)\"))\n",
      "2025-08-11 05:05:51,867 - INFO - Saved HTML: data\\extracted_data\\html\\zhifubao.asp\n",
      "2025-08-11 05:05:53,440 - INFO - Downloaded image: data\\extracted_data\\images\\zhifubao_731562.jpg\n",
      "2025-08-11 05:05:54,986 - INFO - Downloaded image: data\\extracted_data\\images\\zhifubao_zfb.jpg\n",
      "2025-08-11 05:05:54,991 - INFO - Saved HTML: data\\extracted_data\\html\\zhifubao.asp\n",
      "2025-08-11 05:05:56,612 - INFO - Downloaded image: data\\extracted_data\\images\\zhifubao_731562.jpg\n",
      "2025-08-11 05:05:58,160 - INFO - Downloaded image: data\\extracted_data\\images\\zhifubao_zfb.jpg\n",
      "2025-08-11 05:05:58,164 - INFO - Saved HTML: data\\extracted_data\\html\\i15233.KURREN_Art_12033.htm\n",
      "2025-08-11 05:05:58,506 - INFO - Downloaded image: data\\extracted_data\\images\\i15233.KURREN_Art_12033_Instrukciya175.jpg\n",
      "2025-08-11 05:05:58,751 - INFO - Downloaded image: data\\extracted_data\\images\\i15233.KURREN_Art_12033_15233-1_50x50.jpg\n",
      "2025-08-11 05:05:58,987 - INFO - Downloaded image: data\\extracted_data\\images\\i15233.KURREN_Art_12033_free210.jpg\n",
      "2025-08-11 05:05:59,528 - INFO - Downloaded image: data\\extracted_data\\images\\i15233.KURREN_Art_12033_2basket.png\n",
      "2025-08-11 05:06:00,334 - INFO - Downloaded image: data\\extracted_data\\images\\i15233.KURREN_Art_12033_13447294\n",
      "2025-08-11 05:06:00,338 - INFO - Saved HTML: data\\extracted_data\\html\\i15238.KURREN_Art_12038.htm\n",
      "2025-08-11 05:06:00,595 - INFO - Downloaded image: data\\extracted_data\\images\\i15238.KURREN_Art_12038_16901_120x120.jpg\n",
      "2025-08-11 05:06:00,915 - INFO - Downloaded image: data\\extracted_data\\images\\i15238.KURREN_Art_12038_Instrukciya175.jpg\n",
      "2025-08-11 05:06:01,139 - INFO - Downloaded image: data\\extracted_data\\images\\i15238.KURREN_Art_12038_free210.jpg\n",
      "2025-08-11 05:06:01,662 - INFO - Downloaded image: data\\extracted_data\\images\\i15238.KURREN_Art_12038_15238_250x250.jpg\n",
      "2025-08-11 05:06:01,888 - INFO - Downloaded image: data\\extracted_data\\images\\i15238.KURREN_Art_12038_2basket.png\n",
      "2025-08-11 05:06:01,895 - INFO - Saved HTML: data\\extracted_data\\html\\139037-1-1.html\n",
      "2025-08-11 05:06:02,533 - INFO - Saved HTML: data\\extracted_data\\html\\155390-1-1.html\n",
      "2025-08-11 05:06:02,861 - WARNING - Error downloading image http://111br.fun88m.com/template/mb05/images/logoin.png: HTTPConnectionPool(host='111br.fun88m.com', port=80): Max retries exceeded with url: /template/mb05/images/logoin.png (Caused by NameResolutionError(\"<urllib3.connection.HTTPConnection object at 0x0000015E46790E20>: Failed to resolve '111br.fun88m.com' ([Errno 11001] getaddrinfo failed)\"))\n",
      "2025-08-11 05:06:02,866 - WARNING - Error downloading image http://111br.fun88m.com/template/mb05/images/yqf2021.gif: HTTPConnectionPool(host='111br.fun88m.com', port=80): Max retries exceeded with url: /template/mb05/images/yqf2021.gif (Caused by NameResolutionError(\"<urllib3.connection.HTTPConnection object at 0x0000015E467FD7B0>: Failed to resolve '111br.fun88m.com' ([Errno 11001] getaddrinfo failed)\"))\n",
      "2025-08-11 05:06:02,869 - INFO - Saved HTML: data\\extracted_data\\html\\page_9.html\n",
      "2025-08-11 05:06:02,873 - INFO - Saved HTML: data\\extracted_data\\html\\vintage-motorcycle-t-shirt-graphic\n",
      "2025-08-11 05:06:03,460 - INFO - Downloaded image: data\\extracted_data\\images\\vintage-motorcycle-t-shirt-graphic_119-new-logo.png\n",
      "2025-08-11 05:06:04,714 - INFO - Downloaded image: data\\extracted_data\\images\\vintage-motorcycle-t-shirt-graphic_old-heads-club-LOGO-grunge-768x768.jpg\n",
      "2025-08-11 05:06:04,716 - INFO - Saved HTML: data\\extracted_data\\html\\page_11.html\n",
      "2025-08-11 05:06:05,162 - INFO - Downloaded image: data\\extracted_data\\images\\page_11_bazén2-300x199-300x199.jpg\n",
      "2025-08-11 05:06:05,434 - INFO - Downloaded image: data\\extracted_data\\images\\page_11_cropped-logo_2-1.png\n",
      "2025-08-11 05:06:05,438 - INFO - [2/10] Processing WARC file: CC-MAIN-20230320083513-20230320113513-00001.warc.gz\n",
      "2025-08-11 05:06:05,441 - INFO - [3/10] Processing WARC file: CC-MAIN-20230320083513-20230320113513-00002.warc.gz\n",
      "2025-08-11 05:06:05,444 - INFO - [4/10] Processing WARC file: CC-MAIN-20230320083513-20230320113513-00003.warc.gz\n",
      "2025-08-11 05:06:05,445 - WARNING - Skipping file CC-MAIN-20230320083513-20230320113513-00003.warc.gz - not a valid WARC: Unknown archive format, first line: ['<?xml', 'version=\"1.0\"', 'encoding=\"UTF-8\"?>']\n",
      "2025-08-11 05:06:05,446 - INFO - [5/10] Processing WARC file: CC-MAIN-20230320083513-20230320113513-00004.warc.gz\n",
      "2025-08-11 05:06:05,447 - WARNING - Skipping file CC-MAIN-20230320083513-20230320113513-00004.warc.gz - not a valid WARC: Unknown archive format, first line: ['<?xml', 'version=\"1.0\"', 'encoding=\"UTF-8\"?>']\n",
      "2025-08-11 05:06:05,447 - INFO - [6/10] Processing WARC file: CC-MAIN-20230320083513-20230320113513-00005.warc.gz\n",
      "2025-08-11 05:06:05,449 - WARNING - Skipping file CC-MAIN-20230320083513-20230320113513-00005.warc.gz - not a valid WARC: Unknown archive format, first line: ['<?xml', 'version=\"1.0\"', 'encoding=\"UTF-8\"?>']\n",
      "2025-08-11 05:06:05,450 - INFO - [7/10] Processing WARC file: CC-MAIN-20230320083513-20230320113513-00006.warc.gz\n",
      "2025-08-11 05:06:05,451 - INFO - [8/10] Processing WARC file: CC-MAIN-20230320083513-20230320113513-00007.warc.gz\n",
      "2025-08-11 05:06:05,453 - INFO - [9/10] Processing WARC file: CC-MAIN-20230320083513-20230320113513-00008.warc.gz\n",
      "2025-08-11 05:06:05,453 - WARNING - Skipping file CC-MAIN-20230320083513-20230320113513-00008.warc.gz - not a valid WARC: Unknown archive format, first line: ['<?xml', 'version=\"1.0\"', 'encoding=\"UTF-8\"?>']\n",
      "2025-08-11 05:06:05,454 - INFO - [10/10] Processing WARC file: CC-MAIN-20230320083513-20230320113513-00009.warc.gz\n",
      "2025-08-11 05:06:05,455 - WARNING - Skipping file CC-MAIN-20230320083513-20230320113513-00009.warc.gz - not a valid WARC: Unknown archive format, first line: ['<?xml', 'version=\"1.0\"', 'encoding=\"UTF-8\"?>']\n",
      "2025-08-11 05:06:05,457 - INFO - Saved mappings.json with 12 entries.\n",
      "2025-08-11 05:06:05,458 - INFO - === Phase 1 complete: 12 HTML pages processed ===\n"
     ]
    },
    {
     "name": "stdout",
     "output_type": "stream",
     "text": [
      "Phase 1 complete. 12 pages processed.\n",
      "=== Phase 2: Processing text metadata ===\n"
     ]
    },
    {
     "name": "stderr",
     "output_type": "stream",
     "text": [
      "2025-08-11 05:06:06,278 - INFO - Use pytorch device_name: cpu\n",
      "2025-08-11 05:06:06,280 - INFO - Load pretrained SentenceTransformer: all-MiniLM-L6-v2\n",
      "No model was supplied, defaulted to distilbert/distilbert-base-uncased-finetuned-sst-2-english and revision 714eb0f (https://huggingface.co/distilbert/distilbert-base-uncased-finetuned-sst-2-english).\n",
      "Using a pipeline without specifying a model name and revision in production is not recommended.\n",
      "Device set to use cpu\n",
      "2025-08-11 05:06:09,637 - INFO - === Starting Phase 2: Text metadata extraction ===\n",
      "2025-08-11 05:06:09,639 - INFO - Processing 12 HTML files from mappings.json\n",
      "2025-08-11 05:06:10,639 - INFO - [1] Stored article_id=37 title=Calendar | Village of Beiseker | Page 0400425.netsolhost.com|beiseker|calendar-2 images=1\n",
      "2025-08-11 05:06:15,625 - INFO - [2] Stored article_id=38 title=买桔子的梗是什么意思-民生凋敝网 images=5\n",
      "2025-08-11 05:06:18,110 - INFO - [3] Stored article_id=39 title=w88w88 គ្មានការដាក់ប្រាក់បង្វិលឥតគិតថ្លៃទេ កាស៊ីណូអនឡាញ images=1\n",
      "2025-08-11 05:06:19,166 - INFO - [4] Stored article_id=40 title=SzSport.com ׹ָ images=2\n",
      "2025-08-11 05:06:20,253 - INFO - [5] Stored article_id=41 title=SzSport.com ׹ָ images=2\n",
      "2025-08-11 05:06:27,210 - INFO - [6] Stored article_id=42 title= images=5\n",
      "2025-08-11 05:06:32,436 - INFO - [7] Stored article_id=43 title= images=5\n",
      "2025-08-11 05:06:34,060 - INFO - [8] Stored article_id=44 title=正在播放-【有码】292MY-290 早見美優 2 images=0\n",
      "2025-08-11 05:06:35,669 - INFO - [9] Stored article_id=45 title=正在播放-豐滿少婦調教,深喉抽插,喉嚨深處打膠,後入噴水,沙發全濕了 images=0\n",
      "2025-08-11 05:06:35,696 - INFO - [10] Stored article_id=46 title= images=0\n",
      "2025-08-11 05:06:36,075 - INFO - [11] Stored article_id=47 title=Vintage Motorcycle T-shirt Graphic – 119Design images=2\n",
      "2025-08-11 05:06:36,686 - INFO - [12] Stored article_id=48 title=bazén2-300×199 – Stokláska Ratíškovice images=2\n",
      "2025-08-11 05:06:36,690 - INFO - === Phase 2 complete: 12 articles processed ===\n",
      "2025-08-11 05:06:36,844 - INFO - === Phase 3: Enrolling faces from LFW dataset ===\n",
      "2025-08-11 05:06:36,849 - INFO - LFW dataset already extracted.\n"
     ]
    },
    {
     "name": "stdout",
     "output_type": "stream",
     "text": [
      "=== Phase 3: Enrolling faces from LFW dataset ===\n"
     ]
    },
    {
     "name": "stderr",
     "output_type": "stream",
     "text": [
      "2025-08-11 05:06:37,246 - INFO - Found 10 people in LFW dataset.\n",
      "2025-08-11 05:06:38,998 - INFO - ✓ Enrolled AJ_Cook with 1 encodings\n",
      "2025-08-11 05:06:41,004 - INFO - ✓ Enrolled AJ_Lamas with 1 encodings\n",
      "2025-08-11 05:06:42,778 - INFO - ✓ Enrolled Aaron_Eckhart with 1 encodings\n",
      "2025-08-11 05:06:44,514 - INFO - ✓ Enrolled Aaron_Guiel with 1 encodings\n",
      "2025-08-11 05:06:46,260 - INFO - ✓ Enrolled Aaron_Patterson with 1 encodings\n",
      "2025-08-11 05:06:51,302 - INFO - ✓ Enrolled Aaron_Peirsol with 4 encodings\n",
      "2025-08-11 05:06:51,998 - INFO - ✓ Enrolled Aaron_Pena with 1 encodings\n",
      "2025-08-11 05:06:53,396 - INFO - ✓ Enrolled Aaron_Sorkin with 2 encodings\n",
      "2025-08-11 05:06:54,115 - INFO - ✓ Enrolled Aaron_Tippin with 1 encodings\n",
      "2025-08-11 05:06:54,824 - INFO - ✓ Enrolled Abba_Eban with 1 encodings\n",
      "2025-08-11 05:06:54,826 - INFO - ==================================================\n",
      "2025-08-11 05:06:54,827 - INFO - Enrollment complete: 10 people enrolled, 0 failed.\n",
      "2025-08-11 05:06:54,827 - INFO - ==================================================\n",
      "2025-08-11 05:06:54,829 - INFO - === Final Database Statistics ===\n",
      "2025-08-11 05:06:54,831 - INFO - Articles stored: 48\n",
      "2025-08-11 05:06:54,832 - INFO - Images stored: 92\n",
      "2025-08-11 05:06:54,834 - INFO - Known faces stored: 10\n"
     ]
    }
   ],
   "execution_count": 1
  }
 ],
 "metadata": {
  "kernelspec": {
   "display_name": "Python 3",
   "language": "python",
   "name": "python3"
  },
  "language_info": {
   "codemirror_mode": {
    "name": "ipython",
    "version": 2
   },
   "file_extension": ".py",
   "mimetype": "text/x-python",
   "name": "python",
   "nbconvert_exporter": "python",
   "pygments_lexer": "ipython2",
   "version": "2.7.6"
  }
 },
 "nbformat": 4,
 "nbformat_minor": 5
}
